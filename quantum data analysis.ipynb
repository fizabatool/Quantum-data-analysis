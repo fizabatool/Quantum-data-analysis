{
 "cells": [
  {
   "cell_type": "markdown",
   "id": "ecb4e433",
   "metadata": {},
   "source": [
    "imported libraries"
   ]
  },
  {
   "cell_type": "code",
   "execution_count": 4,
   "id": "3e60b91e",
   "metadata": {},
   "outputs": [],
   "source": [
    "import pandas as pd\n",
    "import numpy as np\n",
    "import seaborn as sns\n",
    "import matplotlib.pyplot as pl\n",
    "%matplotlib inline\n",
    "import math"
   ]
  },
  {
   "cell_type": "markdown",
   "id": "6618a4a6",
   "metadata": {},
   "source": [
    "✨DATA ANALYSIS✨\n"
   ]
  },
  {
   "cell_type": "markdown",
   "id": "4e7cfafc",
   "metadata": {},
   "source": [
    "loaded the files "
   ]
  },
  {
   "cell_type": "code",
   "execution_count": 5,
   "id": "ebd66f4b",
   "metadata": {},
   "outputs": [
    {
     "data": {
      "text/html": [
       "<div>\n",
       "<style scoped>\n",
       "    .dataframe tbody tr th:only-of-type {\n",
       "        vertical-align: middle;\n",
       "    }\n",
       "\n",
       "    .dataframe tbody tr th {\n",
       "        vertical-align: top;\n",
       "    }\n",
       "\n",
       "    .dataframe thead th {\n",
       "        text-align: right;\n",
       "    }\n",
       "</style>\n",
       "<table border=\"1\" class=\"dataframe\">\n",
       "  <thead>\n",
       "    <tr style=\"text-align: right;\">\n",
       "      <th></th>\n",
       "      <th>DATE</th>\n",
       "      <th>STORE_NBR</th>\n",
       "      <th>LYLTY_CARD_NBR</th>\n",
       "      <th>TXN_ID</th>\n",
       "      <th>PROD_NBR</th>\n",
       "      <th>PROD_NAME</th>\n",
       "      <th>PROD_QTY</th>\n",
       "      <th>TOT_SALES</th>\n",
       "    </tr>\n",
       "  </thead>\n",
       "  <tbody>\n",
       "    <tr>\n",
       "      <th>0</th>\n",
       "      <td>10/17/2018</td>\n",
       "      <td>1</td>\n",
       "      <td>1000</td>\n",
       "      <td>1</td>\n",
       "      <td>5</td>\n",
       "      <td>Natural Chip        Compny SeaSalt175g</td>\n",
       "      <td>2</td>\n",
       "      <td>6.0</td>\n",
       "    </tr>\n",
       "    <tr>\n",
       "      <th>1</th>\n",
       "      <td>5/14/2019</td>\n",
       "      <td>1</td>\n",
       "      <td>1307</td>\n",
       "      <td>348</td>\n",
       "      <td>66</td>\n",
       "      <td>CCs Nacho Cheese    175g</td>\n",
       "      <td>3</td>\n",
       "      <td>6.3</td>\n",
       "    </tr>\n",
       "  </tbody>\n",
       "</table>\n",
       "</div>"
      ],
      "text/plain": [
       "         DATE  STORE_NBR  LYLTY_CARD_NBR  TXN_ID  PROD_NBR  \\\n",
       "0  10/17/2018          1            1000       1         5   \n",
       "1   5/14/2019          1            1307     348        66   \n",
       "\n",
       "                                PROD_NAME  PROD_QTY  TOT_SALES  \n",
       "0  Natural Chip        Compny SeaSalt175g         2        6.0  \n",
       "1                CCs Nacho Cheese    175g         3        6.3  "
      ]
     },
     "execution_count": 5,
     "metadata": {},
     "output_type": "execute_result"
    }
   ],
   "source": [
    "transaction=pd.read_csv(\"/Users/i Dolphin Online/Downloads/QVI_transaction_data.csv\")\n",
    "purchase=pd.read_csv(\"/Users/i Dolphin Online/Downloads/QVI_purchase_behaviour.csv\")\n",
    "transaction.head(2)"
   ]
  },
  {
   "cell_type": "code",
   "execution_count": 6,
   "id": "d36f2a8b",
   "metadata": {
    "scrolled": true
   },
   "outputs": [
    {
     "data": {
      "text/html": [
       "<div>\n",
       "<style scoped>\n",
       "    .dataframe tbody tr th:only-of-type {\n",
       "        vertical-align: middle;\n",
       "    }\n",
       "\n",
       "    .dataframe tbody tr th {\n",
       "        vertical-align: top;\n",
       "    }\n",
       "\n",
       "    .dataframe thead th {\n",
       "        text-align: right;\n",
       "    }\n",
       "</style>\n",
       "<table border=\"1\" class=\"dataframe\">\n",
       "  <thead>\n",
       "    <tr style=\"text-align: right;\">\n",
       "      <th></th>\n",
       "      <th>LYLTY_CARD_NBR</th>\n",
       "      <th>LIFESTAGE</th>\n",
       "      <th>PREMIUM_CUSTOMER</th>\n",
       "    </tr>\n",
       "  </thead>\n",
       "  <tbody>\n",
       "    <tr>\n",
       "      <th>0</th>\n",
       "      <td>1000</td>\n",
       "      <td>YOUNG SINGLES/COUPLES</td>\n",
       "      <td>Premium</td>\n",
       "    </tr>\n",
       "    <tr>\n",
       "      <th>1</th>\n",
       "      <td>1002</td>\n",
       "      <td>YOUNG SINGLES/COUPLES</td>\n",
       "      <td>Mainstream</td>\n",
       "    </tr>\n",
       "  </tbody>\n",
       "</table>\n",
       "</div>"
      ],
      "text/plain": [
       "   LYLTY_CARD_NBR              LIFESTAGE PREMIUM_CUSTOMER\n",
       "0            1000  YOUNG SINGLES/COUPLES          Premium\n",
       "1            1002  YOUNG SINGLES/COUPLES       Mainstream"
      ]
     },
     "execution_count": 6,
     "metadata": {},
     "output_type": "execute_result"
    }
   ],
   "source": [
    "purchase.head(2)"
   ]
  },
  {
   "cell_type": "markdown",
   "id": "de28bdec",
   "metadata": {},
   "source": [
    "There are 7 categories of customer buying habits and they are classified in premium, mainstream and budget according to their purchasing power."
   ]
  },
  {
   "cell_type": "code",
   "execution_count": 7,
   "id": "f10b82cc",
   "metadata": {},
   "outputs": [
    {
     "data": {
      "text/plain": [
       "<AxesSubplot:xlabel='PREMIUM_CUSTOMER', ylabel='count'>"
      ]
     },
     "execution_count": 7,
     "metadata": {},
     "output_type": "execute_result"
    },
    {
     "data": {
      "image/png": "[encoded data removed]",
      "text/plain": [
       "<Figure size 432x288 with 1 Axes>"
      ]
     },
     "metadata": {
      "needs_background": "light"
     },
     "output_type": "display_data"
    }
   ],
   "source": [
    "sns.countplot(x=\"PREMIUM_CUSTOMER\",hue=\"LIFESTAGE\",data=purchase)"
   ]
  },
  {
   "cell_type": "markdown",
   "id": "66dc02f4",
   "metadata": {},
   "source": [
    "Most of the premium customers are old and retirees. Most of the mainstream are young and retirees. Most of the budget customers are young older families, singles and couples.\n",
    "Older single/couples should be targeted more as they are premium customers, for gaining more profit they should be targeted so that they become highest range customers in mainstream.\n"
   ]
  },
  {
   "cell_type": "code",
   "execution_count": 9,
   "id": "4d9c5730",
   "metadata": {},
   "outputs": [
    {
     "data": {
      "text/plain": [
       "<AxesSubplot:xlabel='LIFESTAGE', ylabel='count'>"
      ]
     },
     "execution_count": 9,
     "metadata": {},
     "output_type": "execute_result"
    },
    {
     "data": {
      "image/png": "[encoded data removed]",
      "text/plain": [
       "<Figure size 914.4x595.44 with 1 Axes>"
      ]
     },
     "metadata": {},
     "output_type": "display_data"
    }
   ],
   "source": [
    "sns.set(rc={'figure.figsize':(12.7,8.27)})\n",
    "sns.countplot(x=\"LIFESTAGE\",data=purchase)"
   ]
  },
  {
   "cell_type": "markdown",
   "id": "ed30eada",
   "metadata": {},
   "source": [
    "New families do not buy a lot from store, products for new families should be introduced in the store."
   ]
  },
  {
   "cell_type": "code",
   "execution_count": 10,
   "id": "25d3126b",
   "metadata": {},
   "outputs": [
    {
     "data": {
      "text/plain": [
       "pandas.core.series.Series"
      ]
     },
     "execution_count": 10,
     "metadata": {},
     "output_type": "execute_result"
    }
   ],
   "source": [
    "type(transaction[\"PROD_QTY\"])"
   ]
  },
  {
   "cell_type": "code",
   "execution_count": 11,
   "id": "d631ceb0",
   "metadata": {},
   "outputs": [
    {
     "data": {
      "text/plain": [
       "69762"
      ]
     },
     "execution_count": 11,
     "metadata": {},
     "output_type": "execute_result"
    }
   ],
   "source": [
    "maxv=max(transaction[\"PROD_QTY\"])\n",
    "list(transaction[\"PROD_QTY\"]).index(maxv)"
   ]
  },
  {
   "cell_type": "code",
   "execution_count": 12,
   "id": "aa3b5fc0",
   "metadata": {},
   "outputs": [
    {
     "data": {
      "text/plain": [
       "'Dorito Corn Chp     Supreme 380g'"
      ]
     },
     "execution_count": 12,
     "metadata": {},
     "output_type": "execute_result"
    }
   ],
   "source": [
    "transaction.loc[69762, \"PROD_NAME\"]"
   ]
  },
  {
   "cell_type": "markdown",
   "id": "af918ff4",
   "metadata": {},
   "source": [
    "Maximum quantity of product sold is of 200 and through the index I got to know the product name is Dorito Corn Chip     Supreme 380g."
   ]
  },
  {
   "cell_type": "markdown",
   "id": "f6c7e259",
   "metadata": {},
   "source": [
    "DATA WRANGLING"
   ]
  },
  {
   "cell_type": "markdown",
   "id": "81128db7",
   "metadata": {},
   "source": [
    "checking for any missing values"
   ]
  },
  {
   "cell_type": "code",
   "execution_count": 13,
   "id": "8c785a4c",
   "metadata": {},
   "outputs": [
    {
     "data": {
      "text/plain": [
       "DATE              0\n",
       "STORE_NBR         0\n",
       "LYLTY_CARD_NBR    0\n",
       "TXN_ID            0\n",
       "PROD_NBR          0\n",
       "PROD_NAME         0\n",
       "PROD_QTY          0\n",
       "TOT_SALES         0\n",
       "dtype: int64"
      ]
     },
     "execution_count": 13,
     "metadata": {},
     "output_type": "execute_result"
    }
   ],
   "source": [
    "transaction.isnull().sum()"
   ]
  },
  {
   "cell_type": "code",
   "execution_count": 18,
   "id": "44e5d891",
   "metadata": {},
   "outputs": [
    {
     "data": {
      "text/plain": [
       "LYLTY_CARD_NBR      0\n",
       "LIFESTAGE           0\n",
       "PREMIUM_CUSTOMER    0\n",
       "dtype: int64"
      ]
     },
     "execution_count": 18,
     "metadata": {},
     "output_type": "execute_result"
    }
   ],
   "source": [
    "purchase.isnull().sum()"
   ]
  },
  {
   "cell_type": "markdown",
   "id": "bd444312",
   "metadata": {},
   "source": [
    "checking for outliers in the data"
   ]
  },
  {
   "cell_type": "code",
   "execution_count": 14,
   "id": "15d6819d",
   "metadata": {},
   "outputs": [
    {
     "data": {
      "text/plain": [
       "<AxesSubplot:xlabel='PROD_QTY'>"
      ]
     },
     "execution_count": 14,
     "metadata": {},
     "output_type": "execute_result"
    },
    {
     "data": {
      "image/png": "[encoded data removed]",
      "text/plain": [
       "<Figure size 914.4x595.44 with 1 Axes>"
      ]
     },
     "metadata": {},
     "output_type": "display_data"
    }
   ],
   "source": [
    "sns.boxplot(x=transaction[\"PROD_QTY\"])"
   ]
  },
  {
   "cell_type": "code",
   "execution_count": 15,
   "id": "ba13ebc3",
   "metadata": {},
   "outputs": [
    {
     "data": {
      "text/plain": [
       "<AxesSubplot:xlabel='TOT_SALES'>"
      ]
     },
     "execution_count": 15,
     "metadata": {},
     "output_type": "execute_result"
    },
    {
     "data": {
      "image/png": "[encoded data removed]",
      "text/plain": [
       "<Figure size 914.4x595.44 with 1 Axes>"
      ]
     },
     "metadata": {},
     "output_type": "display_data"
    }
   ],
   "source": [
    "sns.boxplot(x=transaction[\"TOT_SALES\"])\n"
   ]
  },
  {
   "cell_type": "markdown",
   "id": "badb1b63",
   "metadata": {},
   "source": [
    "Removing outliers"
   ]
  },
  {
   "cell_type": "code",
   "execution_count": 19,
   "id": "1c6313a0",
   "metadata": {},
   "outputs": [],
   "source": [
    "for x in ['PROD_QTY']:\n",
    "    q75,q25 = np.percentile(transaction.loc[:,x],[75,25])\n",
    "    intr_qr = q75-q25\n",
    "\n",
    "    max = q75+(1.5*intr_qr)\n",
    "    min = q25-(1.5*intr_qr)\n",
    "\n",
    "    transaction.loc[ transaction[x] < min,x] = np.nan\n",
    "    transaction.loc[ transaction[x] > max,x] = np.nan"
   ]
  },
  {
   "cell_type": "code",
   "execution_count": 20,
   "id": "e22c53fb",
   "metadata": {},
   "outputs": [
    {
     "data": {
      "text/plain": [
       "<AxesSubplot:xlabel='PROD_QTY'>"
      ]
     },
     "execution_count": 20,
     "metadata": {},
     "output_type": "execute_result"
    },
    {
     "data": {
      "image/png": "[encoded data removed]",
      "text/plain": [
       "<Figure size 914.4x595.44 with 1 Axes>"
      ]
     },
     "metadata": {},
     "output_type": "display_data"
    }
   ],
   "source": [
    "sns.boxplot(x=transaction[\"PROD_QTY\"])\n"
   ]
  },
  {
   "cell_type": "code",
   "execution_count": 21,
   "id": "f3c7e71a",
   "metadata": {},
   "outputs": [
    {
     "data": {
      "text/plain": [
       "<AxesSubplot:xlabel='TOT_SALES'>"
      ]
     },
     "execution_count": 21,
     "metadata": {},
     "output_type": "execute_result"
    },
    {
     "data": {
      "image/png": "[encoded data removed]",
      "text/plain": [
       "<Figure size 914.4x595.44 with 1 Axes>"
      ]
     },
     "metadata": {},
     "output_type": "display_data"
    }
   ],
   "source": [
    "sns.boxplot(x=transaction[\"TOT_SALES\"])"
   ]
  },
  {
   "cell_type": "markdown",
   "id": "66b7a878",
   "metadata": {},
   "source": [
    "Removing missing values after outlier removal"
   ]
  },
  {
   "cell_type": "code",
   "execution_count": 22,
   "id": "b11c37b7",
   "metadata": {},
   "outputs": [
    {
     "data": {
      "text/plain": [
       "DATE                  0\n",
       "STORE_NBR             0\n",
       "LYLTY_CARD_NBR        0\n",
       "TXN_ID                0\n",
       "PROD_NBR              0\n",
       "PROD_NAME             0\n",
       "PROD_QTY          28797\n",
       "TOT_SALES             0\n",
       "dtype: int64"
      ]
     },
     "execution_count": 22,
     "metadata": {},
     "output_type": "execute_result"
    }
   ],
   "source": [
    "transaction.isnull().sum()\n"
   ]
  },
  {
   "cell_type": "code",
   "execution_count": 23,
   "id": "a5d168e5",
   "metadata": {},
   "outputs": [],
   "source": [
    "transaction = transaction.dropna(axis = 0)"
   ]
  },
  {
   "cell_type": "code",
   "execution_count": 24,
   "id": "38d00c92",
   "metadata": {},
   "outputs": [
    {
     "data": {
      "text/plain": [
       "DATE              0\n",
       "STORE_NBR         0\n",
       "LYLTY_CARD_NBR    0\n",
       "TXN_ID            0\n",
       "PROD_NBR          0\n",
       "PROD_NAME         0\n",
       "PROD_QTY          0\n",
       "TOT_SALES         0\n",
       "dtype: int64"
      ]
     },
     "execution_count": 24,
     "metadata": {},
     "output_type": "execute_result"
    }
   ],
   "source": [
    "transaction.isnull().sum()\n"
   ]
  },
  {
   "cell_type": "code",
   "execution_count": 25,
   "id": "075fe549",
   "metadata": {},
   "outputs": [
    {
     "data": {
      "text/plain": [
       "<AxesSubplot:xlabel='TOT_SALES'>"
      ]
     },
     "execution_count": 25,
     "metadata": {},
     "output_type": "execute_result"
    },
    {
     "data": {
      "image/png": "[encoded data removed]",
      "text/plain": [
       "<Figure size 914.4x595.44 with 1 Axes>"
      ]
     },
     "metadata": {},
     "output_type": "display_data"
    }
   ],
   "source": [
    "sns.boxplot(x=transaction[\"TOT_SALES\"])"
   ]
  },
  {
   "cell_type": "markdown",
   "id": "af2f0190",
   "metadata": {},
   "source": [
    "Removing unnecessary columns from the data"
   ]
  },
  {
   "cell_type": "code",
   "execution_count": 45,
   "id": "179194a6",
   "metadata": {},
   "outputs": [],
   "source": [
    "transaction = transaction.drop([\"DATE\",\"STORE_NBR\",\"LYLTY_CARD_NBR\",\"TXN_ID\",\"PROD_NAME\"], axis=1)"
   ]
  },
  {
   "cell_type": "code",
   "execution_count": 46,
   "id": "fc51a487",
   "metadata": {},
   "outputs": [
    {
     "data": {
      "text/html": [
       "<div>\n",
       "<style scoped>\n",
       "    .dataframe tbody tr th:only-of-type {\n",
       "        vertical-align: middle;\n",
       "    }\n",
       "\n",
       "    .dataframe tbody tr th {\n",
       "        vertical-align: top;\n",
       "    }\n",
       "\n",
       "    .dataframe thead th {\n",
       "        text-align: right;\n",
       "    }\n",
       "</style>\n",
       "<table border=\"1\" class=\"dataframe\">\n",
       "  <thead>\n",
       "    <tr style=\"text-align: right;\">\n",
       "      <th></th>\n",
       "      <th>PROD_NBR</th>\n",
       "      <th>PROD_QTY</th>\n",
       "      <th>TOT_SALES</th>\n",
       "    </tr>\n",
       "  </thead>\n",
       "  <tbody>\n",
       "    <tr>\n",
       "      <th>0</th>\n",
       "      <td>5</td>\n",
       "      <td>2.0</td>\n",
       "      <td>6.0</td>\n",
       "    </tr>\n",
       "    <tr>\n",
       "      <th>2</th>\n",
       "      <td>61</td>\n",
       "      <td>2.0</td>\n",
       "      <td>2.9</td>\n",
       "    </tr>\n",
       "    <tr>\n",
       "      <th>9</th>\n",
       "      <td>52</td>\n",
       "      <td>2.0</td>\n",
       "      <td>7.2</td>\n",
       "    </tr>\n",
       "  </tbody>\n",
       "</table>\n",
       "</div>"
      ],
      "text/plain": [
       "   PROD_NBR  PROD_QTY  TOT_SALES\n",
       "0         5       2.0        6.0\n",
       "2        61       2.0        2.9\n",
       "9        52       2.0        7.2"
      ]
     },
     "execution_count": 46,
     "metadata": {},
     "output_type": "execute_result"
    }
   ],
   "source": [
    "transaction.head(3)"
   ]
  },
  {
   "cell_type": "code",
   "execution_count": 42,
   "id": "196e9f49",
   "metadata": {},
   "outputs": [],
   "source": [
    "purchase=pd.read_csv(\"/Users/i Dolphin Online/Downloads/QVI_purchase_behaviour.csv\")\n",
    "\n",
    "purchase=purchase.drop([\"LYLTY_CARD_NBR\"],axis=1)\n"
   ]
  },
  {
   "cell_type": "code",
   "execution_count": 43,
   "id": "6de7caeb",
   "metadata": {},
   "outputs": [
    {
     "data": {
      "text/html": [
       "<div>\n",
       "<style scoped>\n",
       "    .dataframe tbody tr th:only-of-type {\n",
       "        vertical-align: middle;\n",
       "    }\n",
       "\n",
       "    .dataframe tbody tr th {\n",
       "        vertical-align: top;\n",
       "    }\n",
       "\n",
       "    .dataframe thead th {\n",
       "        text-align: right;\n",
       "    }\n",
       "</style>\n",
       "<table border=\"1\" class=\"dataframe\">\n",
       "  <thead>\n",
       "    <tr style=\"text-align: right;\">\n",
       "      <th></th>\n",
       "      <th>LIFESTAGE</th>\n",
       "      <th>PREMIUM_CUSTOMER</th>\n",
       "    </tr>\n",
       "  </thead>\n",
       "  <tbody>\n",
       "    <tr>\n",
       "      <th>0</th>\n",
       "      <td>YOUNG SINGLES/COUPLES</td>\n",
       "      <td>Premium</td>\n",
       "    </tr>\n",
       "    <tr>\n",
       "      <th>1</th>\n",
       "      <td>YOUNG SINGLES/COUPLES</td>\n",
       "      <td>Mainstream</td>\n",
       "    </tr>\n",
       "    <tr>\n",
       "      <th>2</th>\n",
       "      <td>YOUNG FAMILIES</td>\n",
       "      <td>Budget</td>\n",
       "    </tr>\n",
       "  </tbody>\n",
       "</table>\n",
       "</div>"
      ],
      "text/plain": [
       "               LIFESTAGE PREMIUM_CUSTOMER\n",
       "0  YOUNG SINGLES/COUPLES          Premium\n",
       "1  YOUNG SINGLES/COUPLES       Mainstream\n",
       "2         YOUNG FAMILIES           Budget"
      ]
     },
     "execution_count": 43,
     "metadata": {},
     "output_type": "execute_result"
    }
   ],
   "source": [
    "purchase.head(3)"
   ]
  },
  {
   "cell_type": "code",
   "execution_count": null,
   "id": "edd469f1",
   "metadata": {},
   "outputs": [],
   "source": []
  }
 ],
 "metadata": {
  "kernelspec": {
   "display_name": "Python 3",
   "language": "python",
   "name": "python3"
  },
  "language_info": {
   "codemirror_mode": {
    "name": "ipython",
    "version": 3
   },
   "file_extension": ".py",
   "mimetype": "text/x-python",
   "name": "python",
   "nbconvert_exporter": "python",
   "pygments_lexer": "ipython3",
   "version": "3.8.8"
  }
 },
 "nbformat": 4,
 "nbformat_minor": 5
}
